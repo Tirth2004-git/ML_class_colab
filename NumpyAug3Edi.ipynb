{
  "nbformat": 4,
  "nbformat_minor": 0,
  "metadata": {
    "colab": {
      "provenance": [],
      "include_colab_link": true
    },
    "kernelspec": {
      "name": "python3",
      "display_name": "Python 3"
    },
    "language_info": {
      "name": "python"
    }
  },
  "cells": [
    {
      "cell_type": "markdown",
      "metadata": {
        "id": "view-in-github",
        "colab_type": "text"
      },
      "source": [
        "<a href=\"https://colab.research.google.com/github/Tirth2004-git/ML_class_colab/blob/main/NumpyAug3Edi.ipynb\" target=\"_parent\"><img src=\"https://colab.research.google.com/assets/colab-badge.svg\" alt=\"Open In Colab\"/></a>"
      ]
    },
    {
      "cell_type": "markdown",
      "source": [
        "#**Numpy**\n",
        "Numerical Python:\n",
        "* Effecient array creation and processing\n",
        "* So many mathematical oepration\n",
        "* Linear Algebra concepts using linalg class\n",
        "* Random Number generation, Uniform data distrubution\n",
        "* Basic stats can be also implemented with numpy"
      ],
      "metadata": {
        "id": "v7KxMcSausVS"
      }
    },
    {
      "cell_type": "code",
      "execution_count": null,
      "metadata": {
        "colab": {
          "base_uri": "https://localhost:8080/"
        },
        "id": "ZewlSNR1uiCb",
        "outputId": "c2466266-62b2-4ce0-f416-c14831b599f6"
      },
      "outputs": [
        {
          "output_type": "stream",
          "name": "stdout",
          "text": [
            "Requirement already satisfied: numpy in /usr/local/lib/python3.11/dist-packages (2.0.2)\n"
          ]
        }
      ],
      "source": [
        "# Since numpy is a user made library\n",
        "!pip install numpy"
      ]
    },
    {
      "cell_type": "markdown",
      "source": [
        "Numpy Documentation -> https://numpy.org/doc/2.3/"
      ],
      "metadata": {
        "id": "Ci2QmWcivz3J"
      }
    },
    {
      "cell_type": "markdown",
      "source": [
        "**Import the library**"
      ],
      "metadata": {
        "id": "kSTCVt4Bv3Vk"
      }
    },
    {
      "cell_type": "code",
      "source": [
        "import numpy as np # np is my alias name"
      ],
      "metadata": {
        "id": "jU_6yU0lvn4H"
      },
      "execution_count": null,
      "outputs": []
    },
    {
      "cell_type": "code",
      "source": [
        "arr1 = np.array([1.5,2,3,4,5],dtype=float) # Array is Homogenous in nature\n",
        "print(arr1)\n",
        "print(type(arr1))\n",
        "print(arr1.dtype)"
      ],
      "metadata": {
        "colab": {
          "base_uri": "https://localhost:8080/"
        },
        "id": "eVM7z6vmwDdc",
        "outputId": "fa38974c-7ac1-4082-e581-26808572db2b"
      },
      "execution_count": null,
      "outputs": [
        {
          "output_type": "stream",
          "name": "stdout",
          "text": [
            "[1.5 2.  3.  4.  5. ]\n",
            "<class 'numpy.ndarray'>\n",
            "float64\n"
          ]
        }
      ]
    },
    {
      "cell_type": "code",
      "source": [
        "# .shape,.ndim -> Attributes\n",
        "print(arr1.shape) # shape of array (each dimension having how many elements)\n",
        "print(arr1.ndim)  # Dimension of array"
      ],
      "metadata": {
        "colab": {
          "base_uri": "https://localhost:8080/"
        },
        "id": "SgU01w_jwRnp",
        "outputId": "17443e54-6058-4b71-e114-8ee7d18af049"
      },
      "execution_count": null,
      "outputs": [
        {
          "output_type": "stream",
          "name": "stdout",
          "text": [
            "(5,)\n",
            "1\n"
          ]
        }
      ]
    },
    {
      "cell_type": "code",
      "source": [
        "# Zero dim and no shape if we have 1 value in an array\n",
        "arr0 = np.array(12)\n",
        "print(arr0.shape)\n",
        "arr0.ndim"
      ],
      "metadata": {
        "colab": {
          "base_uri": "https://localhost:8080/"
        },
        "id": "5IswdDi5wn21",
        "outputId": "79d0b84e-4ef2-48ff-f14a-deea3f614fa6"
      },
      "execution_count": null,
      "outputs": [
        {
          "output_type": "stream",
          "name": "stdout",
          "text": [
            "()\n"
          ]
        },
        {
          "output_type": "execute_result",
          "data": {
            "text/plain": [
              "0"
            ]
          },
          "metadata": {},
          "execution_count": 5
        }
      ]
    },
    {
      "cell_type": "code",
      "source": [
        "# two dim\n",
        "arr2 = np.array([[1,2],[3,4]])\n",
        "print(arr2)\n",
        "print(arr2.shape)\n",
        "print(arr2.ndim)"
      ],
      "metadata": {
        "colab": {
          "base_uri": "https://localhost:8080/"
        },
        "id": "hSwjmpXPxbwv",
        "outputId": "1b47e1d7-e30e-407c-8a08-1550b60469a3"
      },
      "execution_count": null,
      "outputs": [
        {
          "output_type": "stream",
          "name": "stdout",
          "text": [
            "[[1 2]\n",
            " [3 4]]\n",
            "(2, 2)\n",
            "2\n"
          ]
        }
      ]
    },
    {
      "cell_type": "code",
      "source": [
        "# Three dim\n",
        "a3 = np.array([[[1,2,3],[4,5,6]],[[7,8,9],[10,11,12]],[[13,14,15],[16,17,18]]])\n",
        "print(a3)\n",
        "print(a3.shape)"
      ],
      "metadata": {
        "colab": {
          "base_uri": "https://localhost:8080/"
        },
        "id": "yqhH6oSbyHU-",
        "outputId": "2a66bf25-cbbc-422f-8bd3-24ebb9fc5f4b"
      },
      "execution_count": null,
      "outputs": [
        {
          "output_type": "stream",
          "name": "stdout",
          "text": [
            "[[[ 1  2  3]\n",
            "  [ 4  5  6]]\n",
            "\n",
            " [[ 7  8  9]\n",
            "  [10 11 12]]\n",
            "\n",
            " [[13 14 15]\n",
            "  [16 17 18]]]\n",
            "(3, 2, 3)\n"
          ]
        }
      ]
    },
    {
      "cell_type": "markdown",
      "source": [
        "![image.png](data:image/png;base64,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)"
      ],
      "metadata": {
        "id": "AC44cAVFzu_8"
      }
    },
    {
      "cell_type": "code",
      "source": [
        "# ndim -> Attributes -> Attribute that shows the shape of array\n",
        "#ndmin -> Parameter -> That defines the shape of array\n",
        "arr = np.array([1,2,3,4,5],ndmin = 4)\n",
        "print(arr)\n",
        "print(arr.shape)\n",
        "print(arr.ndim)"
      ],
      "metadata": {
        "colab": {
          "base_uri": "https://localhost:8080/"
        },
        "id": "n6GFoEqdynxy",
        "outputId": "40022155-0b67-4c7b-8d4d-1fb87a69faa0"
      },
      "execution_count": null,
      "outputs": [
        {
          "output_type": "stream",
          "name": "stdout",
          "text": [
            "[[[[1 2 3 4 5]]]]\n",
            "(1, 1, 1, 5)\n",
            "4\n"
          ]
        }
      ]
    },
    {
      "cell_type": "markdown",
      "source": [
        "**To Reshape any array**\n",
        "* Shape should be always the multiple of the number of elements"
      ],
      "metadata": {
        "id": "V4iGrple0iI9"
      }
    },
    {
      "cell_type": "code",
      "source": [
        "# Method -> .reshape()\n",
        "# I want to convert it into 2 dim -> 3,6 or 6,3 or 9,2 or 2,9 or 1,18 or 18,1\n",
        "arrReshaped = a3.reshape(6,3)\n",
        "arrReshaped"
      ],
      "metadata": {
        "colab": {
          "base_uri": "https://localhost:8080/"
        },
        "id": "8s2jCmkm0PND",
        "outputId": "a7d27daf-e373-4877-a060-e0c2d7db0a3b"
      },
      "execution_count": null,
      "outputs": [
        {
          "output_type": "execute_result",
          "data": {
            "text/plain": [
              "array([[ 1,  2,  3],\n",
              "       [ 4,  5,  6],\n",
              "       [ 7,  8,  9],\n",
              "       [10, 11, 12],\n",
              "       [13, 14, 15],\n",
              "       [16, 17, 18]])"
            ]
          },
          "metadata": {},
          "execution_count": 9
        }
      ]
    },
    {
      "cell_type": "markdown",
      "source": [
        "**Indentity Matrix**"
      ],
      "metadata": {
        "id": "v9JkCQbR1t0_"
      }
    },
    {
      "cell_type": "code",
      "source": [
        "# np.identity -> It will always works on square matrix (Rows == Columns) -> Diagonals = 1\n",
        "# by default the dtype is float\n",
        "np.identity(3, dtype=int)"
      ],
      "metadata": {
        "colab": {
          "base_uri": "https://localhost:8080/"
        },
        "id": "0OUevXzn030F",
        "outputId": "ebb7808c-ee76-478c-cdc1-84b71a1e2184"
      },
      "execution_count": null,
      "outputs": [
        {
          "output_type": "execute_result",
          "data": {
            "text/plain": [
              "array([[1, 0, 0],\n",
              "       [0, 1, 0],\n",
              "       [0, 0, 1]])"
            ]
          },
          "metadata": {},
          "execution_count": 10
        }
      ]
    },
    {
      "cell_type": "code",
      "source": [
        "np.eye(3,3,dtype=int)"
      ],
      "metadata": {
        "colab": {
          "base_uri": "https://localhost:8080/"
        },
        "id": "j4TE7lcy1yDi",
        "outputId": "7d75d260-33a5-4513-de77-b7315d359c25"
      },
      "execution_count": null,
      "outputs": [
        {
          "output_type": "execute_result",
          "data": {
            "text/plain": [
              "array([[1, 0, 0],\n",
              "       [0, 1, 0],\n",
              "       [0, 0, 1]])"
            ]
          },
          "metadata": {},
          "execution_count": 11
        }
      ]
    },
    {
      "cell_type": "code",
      "source": [
        "np.eye(3,3,dtype=int,k=3)"
      ],
      "metadata": {
        "colab": {
          "base_uri": "https://localhost:8080/"
        },
        "id": "IPd5JlBa2J5d",
        "outputId": "a7251209-25a8-4a7d-b015-754a4a2b43e4"
      },
      "execution_count": null,
      "outputs": [
        {
          "output_type": "execute_result",
          "data": {
            "text/plain": [
              "array([[0, 0, 0],\n",
              "       [0, 0, 0],\n",
              "       [0, 0, 0]])"
            ]
          },
          "metadata": {},
          "execution_count": 12
        }
      ]
    },
    {
      "cell_type": "markdown",
      "source": [
        "* Broadcasting\n",
        "* Matrix manipulation"
      ],
      "metadata": {
        "id": "b7OJ0AOV2oQZ"
      }
    },
    {
      "cell_type": "markdown",
      "source": [
        "###**Broadcasting**\n",
        "* If you add 1D array to 2D array, numpy will automatically expand the smaller array to the higher dimension array to match the shape"
      ],
      "metadata": {
        "id": "2IhfgNXj23nG"
      }
    },
    {
      "cell_type": "code",
      "source": [
        "a = np.array([[1,2,3],[4,5,6]])\n",
        "b = np.array([7,8,9])\n",
        "c = a+b\n",
        "c.shape"
      ],
      "metadata": {
        "colab": {
          "base_uri": "https://localhost:8080/"
        },
        "id": "YixAFP6z2bqL",
        "outputId": "b0c956f7-e316-4f3d-c961-98698c46aa47"
      },
      "execution_count": null,
      "outputs": [
        {
          "output_type": "execute_result",
          "data": {
            "text/plain": [
              "(2, 3)"
            ]
          },
          "metadata": {},
          "execution_count": 13
        }
      ]
    },
    {
      "cell_type": "markdown",
      "source": [
        "some ways to create arrays"
      ],
      "metadata": {
        "id": "4LS0tJKz3ioF"
      }
    },
    {
      "cell_type": "code",
      "source": [
        "np.zeros((2,3),dtype=int)"
      ],
      "metadata": {
        "colab": {
          "base_uri": "https://localhost:8080/"
        },
        "id": "4IRxBlX_3HSP",
        "outputId": "60c90b4f-f16d-418e-9522-ff73ba2b6408"
      },
      "execution_count": null,
      "outputs": [
        {
          "output_type": "execute_result",
          "data": {
            "text/plain": [
              "array([[0, 0, 0],\n",
              "       [0, 0, 0]])"
            ]
          },
          "metadata": {},
          "execution_count": 14
        }
      ]
    },
    {
      "cell_type": "code",
      "source": [
        "np.ones((3,2),dtype=int)"
      ],
      "metadata": {
        "colab": {
          "base_uri": "https://localhost:8080/"
        },
        "id": "QUQg3FbF3nI9",
        "outputId": "ce329223-4e89-4cca-d43c-fc9e1ec30fe4"
      },
      "execution_count": null,
      "outputs": [
        {
          "output_type": "execute_result",
          "data": {
            "text/plain": [
              "array([[1, 1],\n",
              "       [1, 1],\n",
              "       [1, 1]])"
            ]
          },
          "metadata": {},
          "execution_count": 15
        }
      ]
    },
    {
      "cell_type": "code",
      "source": [
        "np.full((5,4),7)"
      ],
      "metadata": {
        "colab": {
          "base_uri": "https://localhost:8080/"
        },
        "id": "N5J_kb7F3uk8",
        "outputId": "39677ede-123f-4c1f-a0b6-e3550fc87074"
      },
      "execution_count": null,
      "outputs": [
        {
          "output_type": "execute_result",
          "data": {
            "text/plain": [
              "array([[7, 7, 7, 7],\n",
              "       [7, 7, 7, 7],\n",
              "       [7, 7, 7, 7],\n",
              "       [7, 7, 7, 7],\n",
              "       [7, 7, 7, 7]])"
            ]
          },
          "metadata": {},
          "execution_count": 16
        }
      ]
    },
    {
      "cell_type": "code",
      "source": [
        "# another way\n",
        "np.ones((5,4),dtype=int)"
      ],
      "metadata": {
        "colab": {
          "base_uri": "https://localhost:8080/"
        },
        "id": "EVdMlNi_34pX",
        "outputId": "1b1cca6c-2d97-4b98-fed2-183ec096942e"
      },
      "execution_count": null,
      "outputs": [
        {
          "output_type": "execute_result",
          "data": {
            "text/plain": [
              "array([[1, 1, 1, 1],\n",
              "       [1, 1, 1, 1],\n",
              "       [1, 1, 1, 1],\n",
              "       [1, 1, 1, 1],\n",
              "       [1, 1, 1, 1]])"
            ]
          },
          "metadata": {},
          "execution_count": 17
        }
      ]
    },
    {
      "cell_type": "markdown",
      "source": [
        "###**Mathematical methods through numpy**"
      ],
      "metadata": {
        "id": "-HdNIqiw4Ot2"
      }
    },
    {
      "cell_type": "code",
      "source": [
        "arr = np.array([1,2,3,4,5],ndmin = 2)\n",
        "# methods\n",
        "print(f'Sum of all elements are: {np.sum(arr)}')\n",
        "print(f'Mean of all elements are: {np.mean(arr)}')\n",
        "print(f'variance of all Elements are: {np.var(arr)}')\n",
        "print(f'Standard deviation of all elements are: {np.std(arr)}')\n",
        "print(f'smallest element: {np.min(arr)}')\n",
        "print(f'largest element: {np.max(arr)}')\n",
        "print(f'Product of all element is: {np.prod(arr)}')\n",
        "print(f'cumulitive sum: {np.cumsum(arr)}')\n",
        "len(arr)"
      ],
      "metadata": {
        "colab": {
          "base_uri": "https://localhost:8080/"
        },
        "id": "Z7PjJLxs4JqZ",
        "outputId": "452bb564-e34e-472f-c124-233fdb6ade8d"
      },
      "execution_count": null,
      "outputs": [
        {
          "output_type": "stream",
          "name": "stdout",
          "text": [
            "Sum of all elements are: 15\n",
            "Mean of all elements are: 3.0\n",
            "variance of all Elements are: 2.0\n",
            "Standard deviation of all elements are: 1.4142135623730951\n",
            "smallest element: 1\n",
            "largest element: 5\n",
            "Product of all element is: 120\n",
            "cumulitive sum: [ 1  3  6 10 15]\n"
          ]
        },
        {
          "output_type": "execute_result",
          "data": {
            "text/plain": [
              "1"
            ]
          },
          "metadata": {},
          "execution_count": 18
        }
      ]
    },
    {
      "cell_type": "code",
      "source": [
        "x = 5\n",
        "y = 10\n",
        "print('the value of x is',x,'and the value of y is', y)\n",
        "print(f'the value of x is {x} and the value of y is {y}') # format string"
      ],
      "metadata": {
        "colab": {
          "base_uri": "https://localhost:8080/"
        },
        "id": "DRRrAE0q4vsb",
        "outputId": "02dc759b-dc2c-472a-c04e-057bc0540605"
      },
      "execution_count": null,
      "outputs": [
        {
          "output_type": "stream",
          "name": "stdout",
          "text": [
            "the value of x is 5 and the value of y is 10\n",
            "the value of x is 5 and the value of y is 10\n"
          ]
        }
      ]
    },
    {
      "cell_type": "markdown",
      "source": [
        "**Random methods and Pandas**"
      ],
      "metadata": {
        "id": "om6xn9Hk6Vao"
      }
    },
    {
      "cell_type": "code",
      "source": [
        "np.random.rand((3)) # It will generate random 3 values (range -> 0 to 1)"
      ],
      "metadata": {
        "id": "SD7YZibA5hBF",
        "colab": {
          "base_uri": "https://localhost:8080/"
        },
        "outputId": "ec30fbf1-1da7-4367-92e9-d99e0bbdb106"
      },
      "execution_count": null,
      "outputs": [
        {
          "output_type": "execute_result",
          "data": {
            "text/plain": [
              "array([0.56442031, 0.90101296, 0.20489435])"
            ]
          },
          "metadata": {},
          "execution_count": 25
        }
      ]
    },
    {
      "cell_type": "code",
      "source": [
        "np.random.randint(1,10,size=(2,3))"
      ],
      "metadata": {
        "colab": {
          "base_uri": "https://localhost:8080/"
        },
        "id": "OI6oTjaU4Xc7",
        "outputId": "06fcebe0-812d-47d6-8cdc-6a79b9e6dd66"
      },
      "execution_count": null,
      "outputs": [
        {
          "output_type": "execute_result",
          "data": {
            "text/plain": [
              "array([[5, 1, 6],\n",
              "       [5, 3, 8]])"
            ]
          },
          "metadata": {},
          "execution_count": 26
        }
      ]
    },
    {
      "cell_type": "code",
      "source": [
        "arr = np.array([1,2,3,4,5])\n",
        "np.random.shuffle(arr)\n",
        "arr"
      ],
      "metadata": {
        "colab": {
          "base_uri": "https://localhost:8080/"
        },
        "id": "fMt9FKHk47od",
        "outputId": "004df028-9646-41a8-e9bc-b182c11a8abd"
      },
      "execution_count": null,
      "outputs": [
        {
          "output_type": "execute_result",
          "data": {
            "text/plain": [
              "array([2, 4, 1, 5, 3])"
            ]
          },
          "metadata": {},
          "execution_count": 30
        }
      ]
    },
    {
      "cell_type": "markdown",
      "source": [
        "**Matrix Manipulation**"
      ],
      "metadata": {
        "id": "kniO-yqJ5mJq"
      }
    },
    {
      "cell_type": "code",
      "source": [
        "a = np.array([[1,2,3],[4,5,6]])\n",
        "a"
      ],
      "metadata": {
        "colab": {
          "base_uri": "https://localhost:8080/"
        },
        "id": "_-pzm7Nn5Uns",
        "outputId": "bacc3e97-b435-4eab-ad80-9fbb28af3e1d"
      },
      "execution_count": null,
      "outputs": [
        {
          "output_type": "execute_result",
          "data": {
            "text/plain": [
              "array([[1, 2, 3],\n",
              "       [4, 5, 6]])"
            ]
          },
          "metadata": {},
          "execution_count": 33
        }
      ]
    },
    {
      "cell_type": "code",
      "source": [
        "transposedArray = np.transpose(a)"
      ],
      "metadata": {
        "colab": {
          "base_uri": "https://localhost:8080/"
        },
        "id": "89ivt2th6QHA",
        "outputId": "39a916cd-d42d-4a84-8f15-9b548c13bc89"
      },
      "execution_count": null,
      "outputs": [
        {
          "output_type": "execute_result",
          "data": {
            "text/plain": [
              "array([[1, 4],\n",
              "       [2, 5],\n",
              "       [3, 6]])"
            ]
          },
          "metadata": {},
          "execution_count": 34
        }
      ]
    },
    {
      "cell_type": "code",
      "source": [
        "a"
      ],
      "metadata": {
        "colab": {
          "base_uri": "https://localhost:8080/"
        },
        "id": "aK2FMRAg6SwA",
        "outputId": "297bc524-6ef7-4a44-b9e1-1c66e4f3d85a"
      },
      "execution_count": null,
      "outputs": [
        {
          "output_type": "execute_result",
          "data": {
            "text/plain": [
              "array([[1, 2, 3],\n",
              "       [4, 5, 6]])"
            ]
          },
          "metadata": {},
          "execution_count": 35
        }
      ]
    },
    {
      "cell_type": "code",
      "source": [
        "# .flatten() -> It converts all the dimensions of data into one dimension\n",
        "a.flatten()"
      ],
      "metadata": {
        "colab": {
          "base_uri": "https://localhost:8080/"
        },
        "id": "sR696z5l6cPN",
        "outputId": "6132b14e-547e-4e35-e5d9-60e62f8dc518"
      },
      "execution_count": null,
      "outputs": [
        {
          "output_type": "execute_result",
          "data": {
            "text/plain": [
              "array([1, 2, 3, 4, 5, 6])"
            ]
          },
          "metadata": {},
          "execution_count": 37
        }
      ]
    },
    {
      "cell_type": "code",
      "source": [
        "x = np.array([1,2])\n",
        "y = np.array([3,4])\n",
        "np.vstack((x,y))"
      ],
      "metadata": {
        "colab": {
          "base_uri": "https://localhost:8080/"
        },
        "id": "rC_EYCRD6rcz",
        "outputId": "30546dc4-6197-4938-c974-5715e797e894"
      },
      "execution_count": null,
      "outputs": [
        {
          "output_type": "execute_result",
          "data": {
            "text/plain": [
              "array([[1, 2],\n",
              "       [3, 4]])"
            ]
          },
          "metadata": {},
          "execution_count": 39
        }
      ]
    },
    {
      "cell_type": "code",
      "source": [
        "np.hstack((x,y))"
      ],
      "metadata": {
        "colab": {
          "base_uri": "https://localhost:8080/"
        },
        "id": "pfhjZlly7LCS",
        "outputId": "c0a0f43c-167b-4c2e-e2a5-b07260463b94"
      },
      "execution_count": null,
      "outputs": [
        {
          "output_type": "execute_result",
          "data": {
            "text/plain": [
              "array([1, 2, 3, 4])"
            ]
          },
          "metadata": {},
          "execution_count": 40
        }
      ]
    },
    {
      "cell_type": "code",
      "source": [
        "arr = np.array([[10,20,30],\n",
        "                [40,50,60],\n",
        "                [70,80,90]])\n",
        "arr # arr[row,column]"
      ],
      "metadata": {
        "colab": {
          "base_uri": "https://localhost:8080/"
        },
        "id": "gOBmtqbc7RXN",
        "outputId": "ea234aa4-e89a-4992-d494-ef29e200b9aa"
      },
      "execution_count": null,
      "outputs": [
        {
          "output_type": "execute_result",
          "data": {
            "text/plain": [
              "array([[10, 20, 30],\n",
              "       [40, 50, 60],\n",
              "       [70, 80, 90]])"
            ]
          },
          "metadata": {},
          "execution_count": 42
        }
      ]
    },
    {
      "cell_type": "code",
      "source": [
        "print(arr[1,1])\n",
        "print(arr[0,2])\n",
        "print(arr[2,:])\n",
        "print(arr[:,2])"
      ],
      "metadata": {
        "colab": {
          "base_uri": "https://localhost:8080/"
        },
        "id": "1twhxMew7o5K",
        "outputId": "82d1ee29-6b76-480c-a3bc-1d6f82e41106"
      },
      "execution_count": null,
      "outputs": [
        {
          "output_type": "stream",
          "name": "stdout",
          "text": [
            "50\n",
            "30\n",
            "[70 80 90]\n",
            "[30 60 90]\n"
          ]
        }
      ]
    },
    {
      "cell_type": "code",
      "source": [
        "arr = np.array([20,30,35,40])\n",
        "result = np.where(arr>25,'High','Low') # np.where(condition,True,False)\n",
        "result"
      ],
      "metadata": {
        "colab": {
          "base_uri": "https://localhost:8080/"
        },
        "id": "WSJaAm248Qlb",
        "outputId": "9c413d6d-8261-4a56-94a7-c7c9ad680d3f"
      },
      "execution_count": null,
      "outputs": [
        {
          "output_type": "execute_result",
          "data": {
            "text/plain": [
              "array(['Low', 'High', 'High', 'High'], dtype='<U4')"
            ]
          },
          "metadata": {},
          "execution_count": 47
        }
      ]
    },
    {
      "cell_type": "markdown",
      "source": [
        "* .copy() -> Create a new array\n",
        "* .view() -> Shares the same data"
      ],
      "metadata": {
        "id": "5lQyzE7j-Em9"
      }
    },
    {
      "cell_type": "code",
      "source": [
        "a = np.array([1,2,3])\n",
        "b = a.copy()\n",
        "c = a.view()\n",
        "a[0] = 150\n",
        "print(a)\n",
        "print(b)\n",
        "print(c)"
      ],
      "metadata": {
        "colab": {
          "base_uri": "https://localhost:8080/"
        },
        "id": "u5-AUh409ZJf",
        "outputId": "a933695b-9c1d-4e6f-c5a4-6772736ad18f"
      },
      "execution_count": null,
      "outputs": [
        {
          "output_type": "stream",
          "name": "stdout",
          "text": [
            "[150   2   3]\n",
            "[1 2 3]\n",
            "[150   2   3]\n"
          ]
        }
      ]
    },
    {
      "cell_type": "code",
      "source": [],
      "metadata": {
        "id": "Ixxlw_BP9rFR"
      },
      "execution_count": null,
      "outputs": []
    }
  ]
}